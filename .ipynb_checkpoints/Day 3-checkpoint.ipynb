{
 "cells": [
  {
   "cell_type": "markdown",
   "id": "92bc9d16",
   "metadata": {},
   "source": [
    "# Day 3"
   ]
  },
  {
   "cell_type": "markdown",
   "id": "61603a74",
   "metadata": {},
   "source": [
    "## 3.1 Improved BMI Calculator\n",
    "Calculates your BMI (as before) but now provides some context for the result"
   ]
  },
  {
   "cell_type": "code",
   "execution_count": 1,
   "id": "c5f801cf",
   "metadata": {},
   "outputs": [],
   "source": [
    "def calculate_bmi(height, weight):\n",
    "    # Convert height to m\n",
    "    height = float(height) / 100\n",
    "    return(round(float(weight) / (height ** 2)))"
   ]
  },
  {
   "cell_type": "code",
   "execution_count": 8,
   "id": "5dfaa4c0",
   "metadata": {},
   "outputs": [
    {
     "data": {
      "text/plain": [
       "22"
      ]
     },
     "execution_count": 8,
     "metadata": {},
     "output_type": "execute_result"
    }
   ],
   "source": [
    "calculate_bmi(184, 75)"
   ]
  },
  {
   "cell_type": "code",
   "execution_count": 9,
   "id": "8d8bf069",
   "metadata": {
    "scrolled": true
   },
   "outputs": [
    {
     "name": "stdout",
     "output_type": "stream",
     "text": [
      "Please enter your height in cm: 184\n",
      "Please enter your weight in kg: 75\n",
      "Your BMI is 22, and you're classified as healthy\n"
     ]
    }
   ],
   "source": [
    "height = input('Please enter your height in cm: ')\n",
    "weight = input('Please enter your weight in kg: ')\n",
    "\n",
    "# BMI = weight / height ^ 2\n",
    "\n",
    "bmi = calculate_bmi(height, weight)\n",
    "if bmi < 18.5:\n",
    "    print(f\"Your BMI is {bmi}, and you're classified as underweight\")\n",
    "elif 18.5 < bmi and bmi < 25:\n",
    "    print(f\"Your BMI is {bmi}, and you're classified as healthy\")\n",
    "elif 25 < bmi  and bmi < 30:\n",
    "    print(f\"Your BMI is {bmi}, and you're classified as overweight\")\n",
    "elif 30 < bmi and bmi < 35:\n",
    "    print(f\"Your BMI is {bmi}, and you're classified as obese\")\n",
    "else:\n",
    "    print(f\"Your BMI is {bmi}, and you're morbiusly obeast\")"
   ]
  },
  {
   "cell_type": "markdown",
   "id": "3f78c3e6",
   "metadata": {},
   "source": [
    "## 3.2 Leap Year Calculator -\n",
    "Takes an input of a year and tells you whether it's a leap year or not, based on a set of rules.\n",
    "\n",
    "The rules are:\n",
    "- A year is a leap year if it is divisible by 4\n",
    "- EXCEPT if that year is divisible by 100\n",
    "- UNLESS the year is also divisible by 400"
   ]
  },
  {
   "cell_type": "code",
   "execution_count": 4,
   "id": "8f259219",
   "metadata": {},
   "outputs": [],
   "source": [
    "def is_leap_year(year):\n",
    "    year = int(year)\n",
    "    if year % 400 == 0 and year % 100 == 0 and year % 4 == 0:\n",
    "        return True\n",
    "    elif year % 100 == 0 and year % 4 == 0:\n",
    "        return False\n",
    "    elif year % 4 != 0:\n",
    "        return False\n",
    "    else:\n",
    "        return True"
   ]
  },
  {
   "cell_type": "code",
   "execution_count": 12,
   "id": "cab277f8",
   "metadata": {},
   "outputs": [
    {
     "name": "stdout",
     "output_type": "stream",
     "text": [
      "What year is it? 2020\n",
      "2020 is a leap year.\n"
     ]
    }
   ],
   "source": [
    "year = input('What year is it? ')\n",
    "answer = is_leap_year(year)\n",
    "if answer == True:\n",
    "    print(f'{year} is a leap year.')\n",
    "else:\n",
    "    print(f'{year} is not a leap year.')"
   ]
  },
  {
   "cell_type": "markdown",
   "id": "11193b63",
   "metadata": {},
   "source": [
    "To check if this function is correct, I googled how many leap years fell between 1900 and 2000. Google said that there were 25 leap years, so if my function is correct, then there should be 25 True elements in the array of answers."
   ]
  },
  {
   "cell_type": "code",
   "execution_count": 18,
   "id": "796af774",
   "metadata": {},
   "outputs": [],
   "source": [
    "def count_true(array):\n",
    "    count_true = count_false = 0\n",
    "    for element in array:\n",
    "        if element == True:\n",
    "            count_true += 1\n",
    "        else:\n",
    "            count_false += 1\n",
    "    return count_true, count_false"
   ]
  },
  {
   "cell_type": "code",
   "execution_count": 13,
   "id": "81463819",
   "metadata": {},
   "outputs": [],
   "source": [
    "i = 1900\n",
    "arr = []\n",
    "while i < 2001:\n",
    "    arr.append(is_leap_year(i))\n",
    "    i += 1"
   ]
  },
  {
   "cell_type": "code",
   "execution_count": 20,
   "id": "e05174b5",
   "metadata": {},
   "outputs": [
    {
     "data": {
      "text/plain": [
       "(25, 76)"
      ]
     },
     "execution_count": 20,
     "metadata": {},
     "output_type": "execute_result"
    }
   ],
   "source": [
    "count_true(arr)\n",
    "\n",
    "# Correct!"
   ]
  },
  {
   "cell_type": "markdown",
   "id": "35184315",
   "metadata": {},
   "source": [
    "## 3.3 Pizza Order Subtotal Calculator\n",
    "A (somewhat) interactive ordering experience - gives you options to order, takes inputs and outputs final result - the bill"
   ]
  },
  {
   "cell_type": "code",
   "execution_count": 22,
   "id": "6eb7d334",
   "metadata": {
    "scrolled": true
   },
   "outputs": [
    {
     "name": "stdout",
     "output_type": "stream",
     "text": [
      "Welcome to Arjoni's!\n",
      "What size pizza would you like? Large\n",
      "Do you want pepperoni with that? Y\n",
      "How about some extra cheese? N\n",
      "Your total will be $28.\n"
     ]
    }
   ],
   "source": [
    "print(\"Welcome to Arjoni's!\")\n",
    "size = input(\"What size pizza would you like? \")\n",
    "add_pepperoni = input(\"Do you want pepperoni with that? \")\n",
    "extra_cheese = input(\"How about some extra cheese? \")\n",
    "\n",
    "if size == 'Small':\n",
    "    subtotal = 15\n",
    "elif size == 'Medium':\n",
    "    subtotal = 20\n",
    "elif size == 'Large':\n",
    "    subtotal = 25\n",
    "    \n",
    "if add_pepperoni == 'Y':\n",
    "    if size == 'Small':\n",
    "        subtotal += 2\n",
    "    else:\n",
    "        subtotal += 3\n",
    "        \n",
    "if extra_cheese == 'Y':\n",
    "    subtotal += 1\n",
    "\n",
    "print(f\"Your total will be ${subtotal}.\")"
   ]
  }
 ],
 "metadata": {
  "kernelspec": {
   "display_name": "Python 3 (ipykernel)",
   "language": "python",
   "name": "python3"
  },
  "language_info": {
   "codemirror_mode": {
    "name": "ipython",
    "version": 3
   },
   "file_extension": ".py",
   "mimetype": "text/x-python",
   "name": "python",
   "nbconvert_exporter": "python",
   "pygments_lexer": "ipython3",
   "version": "3.8.10"
  }
 },
 "nbformat": 4,
 "nbformat_minor": 5
}
