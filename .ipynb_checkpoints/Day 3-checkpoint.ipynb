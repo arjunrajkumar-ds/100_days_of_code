{
 "cells": [
  {
   "cell_type": "markdown",
   "id": "92bc9d16",
   "metadata": {},
   "source": [
    "# Day 3"
   ]
  },
  {
   "cell_type": "markdown",
   "id": "61603a74",
   "metadata": {},
   "source": [
    "## 3.1 Improved BMI Calculator\n",
    "Calculates your BMI (as before) but now provides some context for the result"
   ]
  },
  {
   "cell_type": "code",
   "execution_count": 1,
   "id": "c5f801cf",
   "metadata": {},
   "outputs": [],
   "source": [
    "def calculate_bmi(height, weight):\n",
    "    # Convert height to m\n",
    "    height = float(height) / 100\n",
    "    return(round(float(weight) / (height ** 2)))"
   ]
  },
  {
   "cell_type": "code",
   "execution_count": 8,
   "id": "5dfaa4c0",
   "metadata": {},
   "outputs": [
    {
     "data": {
      "text/plain": [
       "22"
      ]
     },
     "execution_count": 8,
     "metadata": {},
     "output_type": "execute_result"
    }
   ],
   "source": [
    "calculate_bmi(184, 75)"
   ]
  },
  {
   "cell_type": "code",
   "execution_count": 9,
   "id": "8d8bf069",
   "metadata": {
    "scrolled": true
   },
   "outputs": [
    {
     "name": "stdout",
     "output_type": "stream",
     "text": [
      "Please enter your height in cm: 184\n",
      "Please enter your weight in kg: 75\n",
      "Your BMI is 22, and you're classified as healthy\n"
     ]
    }
   ],
   "source": [
    "height = input('Please enter your height in cm: ')\n",
    "weight = input('Please enter your weight in kg: ')\n",
    "\n",
    "# BMI = weight / height ^ 2\n",
    "\n",
    "bmi = calculate_bmi(height, weight)\n",
    "if bmi < 18.5:\n",
    "    print(f\"Your BMI is {bmi}, and you're classified as underweight\")\n",
    "elif 18.5 < bmi and bmi < 25:\n",
    "    print(f\"Your BMI is {bmi}, and you're classified as healthy\")\n",
    "elif 25 < bmi  and bmi < 30:\n",
    "    print(f\"Your BMI is {bmi}, and you're classified as overweight\")\n",
    "elif 30 < bmi and bmi < 35:\n",
    "    print(f\"Your BMI is {bmi}, and you're classified as obese\")\n",
    "else:\n",
    "    print(f\"Your BMI is {bmi}, and you're morbiusly obeast\")"
   ]
  },
  {
   "cell_type": "markdown",
   "id": "3f78c3e6",
   "metadata": {},
   "source": [
    "## 3.2 Leap Year Calculator -\n",
    "Takes an input of a year and tells you whether it's a leap year or not, based on a set of rules.\n",
    "\n",
    "The rules are:\n",
    "- A year is a leap year if it is divisible by 4\n",
    "- EXCEPT if that year is divisible by 100\n",
    "- UNLESS the year is also divisible by 400"
   ]
  },
  {
   "cell_type": "code",
   "execution_count": null,
   "id": "cab277f8",
   "metadata": {},
   "outputs": [],
   "source": [
    "year = input('What year is it? ')\n"
   ]
  }
 ],
 "metadata": {
  "kernelspec": {
   "display_name": "Python 3 (ipykernel)",
   "language": "python",
   "name": "python3"
  },
  "language_info": {
   "codemirror_mode": {
    "name": "ipython",
    "version": 3
   },
   "file_extension": ".py",
   "mimetype": "text/x-python",
   "name": "python",
   "nbconvert_exporter": "python",
   "pygments_lexer": "ipython3",
   "version": "3.8.10"
  }
 },
 "nbformat": 4,
 "nbformat_minor": 5
}
