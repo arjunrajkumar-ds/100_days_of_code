{
 "cells": [
  {
   "cell_type": "markdown",
   "id": "a98151a4",
   "metadata": {},
   "source": [
    "# Day 2 - Understanding Data Types and Manipulating Strings"
   ]
  },
  {
   "cell_type": "markdown",
   "id": "3744d1fe",
   "metadata": {},
   "source": [
    "## Exercise 1\n",
    "\n",
    "Write a function that takes in a 2 digit number and print the sum of the digits"
   ]
  },
  {
   "cell_type": "code",
   "execution_count": 5,
   "id": "5eb4d61b",
   "metadata": {},
   "outputs": [],
   "source": [
    "def number_add(two_digit_num):\n",
    "    first_digit = str(two_digit_num)[0]\n",
    "    second_digit = str(two_digit_num)[1]\n",
    "    return(int(first_digit) + int(second_digit))"
   ]
  },
  {
   "cell_type": "code",
   "execution_count": 6,
   "id": "31c7389d",
   "metadata": {},
   "outputs": [
    {
     "data": {
      "text/plain": [
       "5"
      ]
     },
     "execution_count": 6,
     "metadata": {},
     "output_type": "execute_result"
    }
   ],
   "source": [
    "number_add(23)"
   ]
  }
 ],
 "metadata": {
  "kernelspec": {
   "display_name": "Python 3 (ipykernel)",
   "language": "python",
   "name": "python3"
  },
  "language_info": {
   "codemirror_mode": {
    "name": "ipython",
    "version": 3
   },
   "file_extension": ".py",
   "mimetype": "text/x-python",
   "name": "python",
   "nbconvert_exporter": "python",
   "pygments_lexer": "ipython3",
   "version": "3.8.10"
  }
 },
 "nbformat": 4,
 "nbformat_minor": 5
}
