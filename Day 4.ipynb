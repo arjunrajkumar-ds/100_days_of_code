{
 "cells": [
  {
   "cell_type": "markdown",
   "metadata": {},
   "source": [
    "# 3.1 Rock Paper Scissors Bot"
   ]
  },
  {
   "cell_type": "code",
   "execution_count": 5,
   "metadata": {},
   "outputs": [],
   "source": [
    "import random"
   ]
  },
  {
   "cell_type": "code",
   "execution_count": 37,
   "metadata": {},
   "outputs": [
    {
     "data": {
      "text/plain": [
       "1"
      ]
     },
     "execution_count": 37,
     "metadata": {},
     "output_type": "execute_result"
    }
   ],
   "source": [
    "random.randint(1, 3)"
   ]
  },
  {
   "cell_type": "code",
   "execution_count": 52,
   "metadata": {},
   "outputs": [],
   "source": [
    "def rps_to_int(choice):\n",
    "    if choice == 'rock':\n",
    "        return 1\n",
    "    elif choice == 'paper':\n",
    "        return 2\n",
    "    elif choice == 'scissors':\n",
    "        return 3"
   ]
  },
  {
   "cell_type": "code",
   "execution_count": 59,
   "metadata": {},
   "outputs": [
    {
     "name": "stdout",
     "output_type": "stream",
     "text": [
      "You tied\n",
      "You won! Rock beats scissors\n"
     ]
    }
   ],
   "source": [
    "# 1 = Rock, 2 = Paper, 3 = Scissors\n",
    "game = 1\n",
    "while game:\n",
    "    human = rps_to_int(input(\"Rock, Paper or Scissors? \").lower())\n",
    "    computer = random.randint(1, 3)\n",
    "    if computer == human:\n",
    "        print(\"You tied\")\n",
    "    elif computer == 1 and human == 2:\n",
    "        print(\"You won! Paper beats rock\")\n",
    "        game -= 1\n",
    "    elif computer == 1 and human == 3:\n",
    "        print(\"You lost! Rock beats scissors\")\n",
    "        game -= 1\n",
    "    elif computer == 2 and human == 1:\n",
    "        print(\"You lost! Paper beats rock\")\n",
    "        game -= 1\n",
    "    elif computer == 2 and human == 3:\n",
    "        print(\"You won! Scissors beats paper\")\n",
    "        game -= 1\n",
    "    elif computer == 3 and human == 1:\n",
    "        print(\"You won! Rock beats scissors\")\n",
    "        game -= 1\n",
    "    elif computer == 3 and human == 2:\n",
    "        print(\"You lost! Scissors beats paper\")\n",
    "        game -= 1"
   ]
  }
 ],
 "metadata": {
  "kernelspec": {
   "display_name": "Python 3.9.12 ('base')",
   "language": "python",
   "name": "python3"
  },
  "language_info": {
   "codemirror_mode": {
    "name": "ipython",
    "version": 3
   },
   "file_extension": ".py",
   "mimetype": "text/x-python",
   "name": "python",
   "nbconvert_exporter": "python",
   "pygments_lexer": "ipython3",
   "version": "3.9.12"
  },
  "orig_nbformat": 4,
  "vscode": {
   "interpreter": {
    "hash": "693087e521775e1969dc7a95c9dcc999435e0763ade54d3fa1965327ad8fb375"
   }
  }
 },
 "nbformat": 4,
 "nbformat_minor": 2
}
