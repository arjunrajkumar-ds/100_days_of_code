{
 "cells": [
  {
   "cell_type": "markdown",
   "metadata": {},
   "source": [
    "## 4.1 Rock Paper Scissors Bot"
   ]
  },
  {
   "cell_type": "code",
   "execution_count": 2,
   "metadata": {},
   "outputs": [],
   "source": [
    "def rps_to_int(choice):\n",
    "    if choice == 'rock':\n",
    "        return 1\n",
    "    elif choice == 'paper':\n",
    "        return 2\n",
    "    elif choice == 'scissors':\n",
    "        return 3"
   ]
  },
  {
   "cell_type": "code",
   "execution_count": 3,
   "metadata": {},
   "outputs": [
    {
     "name": "stdout",
     "output_type": "stream",
     "text": [
      "You tied\n",
      "You lost! Paper beats rock\n"
     ]
    }
   ],
   "source": [
    "# 1 = Rock, 2 = Paper, 3 = Scissors\n",
    "import random\n",
    "\n",
    "game = 1\n",
    "while game:\n",
    "    human = rps_to_int(input(\"Rock, Paper or Scissors? \").lower())\n",
    "    computer = random.randint(1, 3)\n",
    "    if computer == human:\n",
    "        print(\"You tied\")\n",
    "    elif computer == 1 and human == 2:\n",
    "        print(\"You won! Paper beats rock\")\n",
    "        game -= 1\n",
    "    elif computer == 1 and human == 3:\n",
    "        print(\"You lost! Rock beats scissors\")\n",
    "        game -= 1\n",
    "    elif computer == 2 and human == 1:\n",
    "        print(\"You lost! Paper beats rock\")\n",
    "        game -= 1\n",
    "    elif computer == 2 and human == 3:\n",
    "        print(\"You won! Scissors beats paper\")\n",
    "        game -= 1\n",
    "    elif computer == 3 and human == 1:\n",
    "        print(\"You won! Rock beats scissors\")\n",
    "        game -= 1\n",
    "    elif computer == 3 and human == 2:\n",
    "        print(\"You lost! Scissors beats paper\")\n",
    "        game -= 1"
   ]
  },
  {
   "cell_type": "markdown",
   "metadata": {},
   "source": [
    "## 4.2 Treasure Map"
   ]
  },
  {
   "cell_type": "code",
   "execution_count": 24,
   "metadata": {},
   "outputs": [
    {
     "ename": "SyntaxError",
     "evalue": "invalid syntax (3743396649.py, line 12)",
     "output_type": "error",
     "traceback": [
      "\u001b[0;36m  Input \u001b[0;32mIn [24]\u001b[0;36m\u001b[0m\n\u001b[0;31m    row{x}\u001b[0m\n\u001b[0m       ^\u001b[0m\n\u001b[0;31mSyntaxError\u001b[0m\u001b[0;31m:\u001b[0m invalid syntax\n"
     ]
    }
   ],
   "source": [
    "row1 = [\"❌\", \"❌\", \"❌\"]\n",
    "row2 = [\"❌\", \"❌\", \"❌\"]\n",
    "row3 = [\"❌\", \"❌\", \"❌\"]\n",
    "map = [row1, row2, row3]\n",
    "print(f\"{row1}\\n{row2}\\n{row3}\")\n",
    "\n",
    "position = input(\"Where do you want to hide the treasure? \") # Input will be 2 numbers with a space\n",
    "x, y = position.split(' ')\n",
    "x = int(x)\n",
    "y = int(y)\n",
    "\n"
   ]
  }
 ],
 "metadata": {
  "kernelspec": {
   "display_name": "Python 3.8.10 64-bit",
   "language": "python",
   "name": "python3"
  },
  "language_info": {
   "codemirror_mode": {
    "name": "ipython",
    "version": 3
   },
   "file_extension": ".py",
   "mimetype": "text/x-python",
   "name": "python",
   "nbconvert_exporter": "python",
   "pygments_lexer": "ipython3",
   "version": "3.8.10"
  },
  "orig_nbformat": 4,
  "vscode": {
   "interpreter": {
    "hash": "916dbcbb3f70747c44a77c7bcd40155683ae19c65e1c03b4aa3499c5328201f1"
   }
  }
 },
 "nbformat": 4,
 "nbformat_minor": 2
}
