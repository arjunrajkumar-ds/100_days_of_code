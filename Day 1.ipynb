{
 "cells": [
  {
   "cell_type": "markdown",
   "id": "dfa329f2",
   "metadata": {},
   "source": [
    "## Exercise 1 "
   ]
  },
  {
   "cell_type": "code",
   "execution_count": 5,
   "id": "2a40cced",
   "metadata": {
    "scrolled": true
   },
   "outputs": [
    {
     "name": "stdout",
     "output_type": "stream",
     "text": [
      "Day 1 - Python Print Function\n",
      "The function is declared like this:\n",
      "print('what to print')\n"
     ]
    }
   ],
   "source": [
    "print(\"Day 1 - Python Print Function\\nThe function is declared like this:\\nprint('what to print')\")"
   ]
  },
  {
   "cell_type": "markdown",
   "id": "d0d9f690",
   "metadata": {},
   "source": [
    "## Exercise 2"
   ]
  },
  {
   "cell_type": "code",
   "execution_count": 7,
   "id": "2957cc51",
   "metadata": {},
   "outputs": [
    {
     "name": "stdout",
     "output_type": "stream",
     "text": [
      "Day 1 - String ManipulationnString Concatenation is done with the \"+\" sign.\n",
      "e.g. print(\"Hello\" + \"World\")\n",
      "New lines can be created with a backslash and n.\n"
     ]
    }
   ],
   "source": [
    "print('Day 1 - String ManipulationnString Concatenation is done with the \"+\" sign.')\n",
    "print('e.g. print(\"Hello\" + \"World\")\\nNew lines can be created with a backslash and n.')"
   ]
  },
  {
   "cell_type": "markdown",
   "id": "3b546645",
   "metadata": {},
   "source": [
    "## Exercise 3"
   ]
  },
  {
   "cell_type": "code",
   "execution_count": 11,
   "id": "3582e67c",
   "metadata": {},
   "outputs": [
    {
     "name": "stdout",
     "output_type": "stream",
     "text": [
      "What is your name? Arjun\n",
      "5\n"
     ]
    }
   ],
   "source": [
    "# Write a program that reads input (e.g- name) and prints length\n",
    "\n",
    "name = input('What is your name? ')\n",
    "print(len(name))"
   ]
  },
  {
   "cell_type": "markdown",
   "id": "896bba8e",
   "metadata": {},
   "source": [
    "## Exercise 4"
   ]
  },
  {
   "cell_type": "code",
   "execution_count": 19,
   "id": "26b1bc40",
   "metadata": {},
   "outputs": [
    {
     "name": "stdout",
     "output_type": "stream",
     "text": [
      "a: 2\n",
      "b: 3\n",
      "a:  3 \n",
      "b:  2\n"
     ]
    }
   ],
   "source": [
    "# Write code to switch a and b\n",
    "\n",
    "a = input(\"a: \")\n",
    "b = input(\"b: \")\n",
    "\n",
    "temp = a\n",
    "a = b\n",
    "b = temp\n",
    "print('a: ', a, '\\nb: ',b)"
   ]
  },
  {
   "cell_type": "markdown",
   "id": "cf18eabc",
   "metadata": {},
   "source": [
    "# Day 1 Project\n",
    "## Band Name Generator"
   ]
  },
  {
   "cell_type": "code",
   "execution_count": 23,
   "id": "f5c7de38",
   "metadata": {},
   "outputs": [
    {
     "name": "stdout",
     "output_type": "stream",
     "text": [
      "Welcome to the Band Name Generator!\n",
      "What city did you grow up in? Melbourne\n",
      "What was the name of your first pet? Mocha\n",
      "A good band name would be: Melbourne Mocha\n"
     ]
    }
   ],
   "source": [
    "# 1. Create a greeting\n",
    "# 2. Ask user for city they grew up in\n",
    "# 3. Ask user for the name of a pet\n",
    "# 4. Combine those two to find band name\n",
    "\n",
    "print(\"Welcome to the Band Name Generator!\")\n",
    "city = input(\"What city did you grow up in? \")\n",
    "pet = input(\"What was the name of your first pet? \")\n",
    "print(\"A good band name would be:\", city, pet)"
   ]
  }
 ],
 "metadata": {
  "kernelspec": {
   "display_name": "Python 3 (ipykernel)",
   "language": "python",
   "name": "python3"
  },
  "language_info": {
   "codemirror_mode": {
    "name": "ipython",
    "version": 3
   },
   "file_extension": ".py",
   "mimetype": "text/x-python",
   "name": "python",
   "nbconvert_exporter": "python",
   "pygments_lexer": "ipython3",
   "version": "3.8.10"
  }
 },
 "nbformat": 4,
 "nbformat_minor": 5
}
