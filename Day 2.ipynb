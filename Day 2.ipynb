{
 "cells": [
  {
   "cell_type": "markdown",
   "id": "48c8a0a4",
   "metadata": {},
   "source": [
    "# Day 2 - Understanding Data Types and Manipulating Strings"
   ]
  },
  {
   "cell_type": "markdown",
   "id": "3744d1fe",
   "metadata": {},
   "source": [
    "## Exercise 1\n",
    "\n",
    "Write a function that takes in a 2 digit number and print the sum of the digits"
   ]
  },
  {
   "cell_type": "code",
   "execution_count": 5,
   "id": "5eb4d61b",
   "metadata": {},
   "outputs": [],
   "source": [
    "def number_add(two_digit_num):\n",
    "    first_digit = str(two_digit_num)[0]\n",
    "    second_digit = str(two_digit_num)[1]\n",
    "    return(int(first_digit) + int(second_digit))"
   ]
  },
  {
   "cell_type": "code",
   "execution_count": 7,
   "id": "f6937f05",
   "metadata": {
    "scrolled": true
   },
   "outputs": [
    {
     "name": "stdout",
     "output_type": "stream",
     "text": [
      "Please enter a 2 digit number:23\n"
     ]
    },
    {
     "data": {
      "text/plain": [
       "5"
      ]
     },
     "execution_count": 7,
     "metadata": {},
     "output_type": "execute_result"
    }
   ],
   "source": [
    "number = input('Please enter a 2 digit number: ')\n",
    "number_add(23)"
   ]
  },
  {
   "cell_type": "markdown",
   "id": "ec85e3c6",
   "metadata": {},
   "source": [
    "## Exercise 2\n",
    "Creating a BMI (Body Mass Index) Calculator"
   ]
  },
  {
   "cell_type": "code",
   "execution_count": 15,
   "id": "0f153116",
   "metadata": {},
   "outputs": [],
   "source": [
    "def calculate_bmi(height, weight):\n",
    "    # Convert height to m\n",
    "    height = float(height) / 100\n",
    "    return(round(float(weight) / (height ** 2)))"
   ]
  },
  {
   "cell_type": "code",
   "execution_count": 17,
   "id": "d0f138e4",
   "metadata": {},
   "outputs": [
    {
     "name": "stdout",
     "output_type": "stream",
     "text": [
      "Please enter your height in cm: 184\n",
      "Please enter your weight in kg: 75\n"
     ]
    },
    {
     "data": {
      "text/plain": [
       "22"
      ]
     },
     "execution_count": 17,
     "metadata": {},
     "output_type": "execute_result"
    }
   ],
   "source": [
    "height = input('Please enter your height in cm: ')\n",
    "weight = input('Please enter your weight in kg: ')\n",
    "\n",
    "# BMI = weight / height ^ 2\n",
    "\n",
    "calculate_bmi(height, weight)"
   ]
  }
 ],
 "metadata": {
  "kernelspec": {
   "display_name": "Python 3 (ipykernel)",
   "language": "python",
   "name": "python3"
  },
  "language_info": {
   "codemirror_mode": {
    "name": "ipython",
    "version": 3
   },
   "file_extension": ".py",
   "mimetype": "text/x-python",
   "name": "python",
   "nbconvert_exporter": "python",
   "pygments_lexer": "ipython3",
   "version": "3.8.10"
  }
 },
 "nbformat": 4,
 "nbformat_minor": 5
}
