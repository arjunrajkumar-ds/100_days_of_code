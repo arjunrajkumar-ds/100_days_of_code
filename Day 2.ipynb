{
 "cells": [
  {
   "cell_type": "markdown",
   "id": "fb5665db",
   "metadata": {},
   "source": [
    "# Day 2 - Understanding Data Types and Manipulating Strings"
   ]
  },
  {
   "cell_type": "markdown",
   "id": "3744d1fe",
   "metadata": {},
   "source": [
    "## Exercise 1\n",
    "\n",
    "Write a function that takes in a 2 digit number and print the sum of the digits"
   ]
  },
  {
   "cell_type": "code",
   "execution_count": 5,
   "id": "5eb4d61b",
   "metadata": {},
   "outputs": [],
   "source": [
    "def number_add(two_digit_num):\n",
    "    first_digit = str(two_digit_num)[0]\n",
    "    second_digit = str(two_digit_num)[1]\n",
    "    return(int(first_digit) + int(second_digit))"
   ]
  },
  {
   "cell_type": "code",
   "execution_count": 7,
   "id": "366c3637",
   "metadata": {
    "scrolled": true
   },
   "outputs": [
    {
     "name": "stdout",
     "output_type": "stream",
     "text": [
      "Please enter a 2 digit number:23\n"
     ]
    },
    {
     "data": {
      "text/plain": [
       "5"
      ]
     },
     "execution_count": 7,
     "metadata": {},
     "output_type": "execute_result"
    }
   ],
   "source": [
    "number = input('Please enter a 2 digit number: ')\n",
    "number_add(23)"
   ]
  },
  {
   "cell_type": "markdown",
   "id": "89d18fed",
   "metadata": {},
   "source": [
    "## Exercise 2\n",
    "Creating a BMI (Body Mass Index) Calculator"
   ]
  },
  {
   "cell_type": "code",
   "execution_count": 15,
   "id": "54e41398",
   "metadata": {},
   "outputs": [],
   "source": [
    "def calculate_bmi(height, weight):\n",
    "    # Convert height to m\n",
    "    height = float(height) / 100\n",
    "    return(round(float(weight) / (height ** 2)))"
   ]
  },
  {
   "cell_type": "code",
   "execution_count": 17,
   "id": "40a4044b",
   "metadata": {
    "scrolled": true
   },
   "outputs": [
    {
     "name": "stdout",
     "output_type": "stream",
     "text": [
      "Please enter your height in cm: 184\n",
      "Please enter your weight in kg: 75\n"
     ]
    },
    {
     "data": {
      "text/plain": [
       "22"
      ]
     },
     "execution_count": 17,
     "metadata": {},
     "output_type": "execute_result"
    }
   ],
   "source": [
    "height = input('Please enter your height in cm: ')\n",
    "weight = input('Please enter your weight in kg: ')\n",
    "\n",
    "# BMI = weight / height ^ 2\n",
    "\n",
    "calculate_bmi(height, weight)"
   ]
  },
  {
   "cell_type": "markdown",
   "id": "6b1ce711",
   "metadata": {},
   "source": [
    "## Exercise 3 \n",
    "Assuming that you'd live to 90 years old, this program will take in your age and output how many years, months and days you have left (wtf)"
   ]
  },
  {
   "cell_type": "code",
   "execution_count": 26,
   "id": "0f4c9bba",
   "metadata": {},
   "outputs": [],
   "source": [
    "def time_remaining(age):\n",
    "    years_left = 90 - age\n",
    "    months_left = years_left * 12\n",
    "    days_left = months_left * 31\n",
    "    return(years_left, months_left, days_left)"
   ]
  },
  {
   "cell_type": "code",
   "execution_count": 28,
   "id": "796c7eaf",
   "metadata": {},
   "outputs": [
    {
     "name": "stdout",
     "output_type": "stream",
     "text": [
      "How old are you? 67\n",
      "You have 23 years, 276 months and 8556 days remaining. Good luck!\n"
     ]
    }
   ],
   "source": [
    "age = input('How old are you? ')\n",
    "age = int(age)\n",
    "\n",
    "a, b, c = time_remaining(age)\n",
    "print(f'You have {a} years, {b} months and {c} days remaining. Good luck!')"
   ]
  },
  {
   "cell_type": "markdown",
   "id": "7b332fd3",
   "metadata": {},
   "source": [
    "# Day 2 Project - Tip Calculator\n",
    "Given a bill total, function takes in how many people are splitting, what percentage tip you'd like to leave and outputs the amount that each person should pay"
   ]
  },
  {
   "cell_type": "code",
   "execution_count": 38,
   "id": "7d02b83b",
   "metadata": {},
   "outputs": [
    {
     "name": "stdout",
     "output_type": "stream",
     "text": [
      "What was the total? 100\n",
      "How much of a tip do you want to leave? 10\n",
      "How many people are splitting? 2\n",
      "Each person pays $55.0\n"
     ]
    }
   ],
   "source": [
    "total_bill = input('What was the total? ')\n",
    "total_bill = float(total_bill)\n",
    "percentage = input('How much of a tip do you want to leave? ')\n",
    "percentage = float(percentage)\n",
    "num_people = input('How many people are splitting? ')\n",
    "num_people = int(num_people)\n",
    "\n",
    "# Calculate the net total of the bill (including the tip)\n",
    "total_bill += total_bill * (percentage / 100)\n",
    "\n",
    "split_payment = total_bill / num_people\n",
    "\n",
    "print(f'Each person pays ${round(split_payment, 2)}')"
   ]
  }
 ],
 "metadata": {
  "kernelspec": {
   "display_name": "Python 3.8.10 64-bit",
   "language": "python",
   "name": "python3"
  },
  "language_info": {
   "codemirror_mode": {
    "name": "ipython",
    "version": 3
   },
   "file_extension": ".py",
   "mimetype": "text/x-python",
   "name": "python",
   "nbconvert_exporter": "python",
   "pygments_lexer": "ipython3",
   "version": "3.8.10"
  },
  "vscode": {
   "interpreter": {
    "hash": "916dbcbb3f70747c44a77c7bcd40155683ae19c65e1c03b4aa3499c5328201f1"
   }
  }
 },
 "nbformat": 4,
 "nbformat_minor": 5
}
