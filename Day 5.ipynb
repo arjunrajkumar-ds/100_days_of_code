{
 "cells": [
  {
   "cell_type": "markdown",
   "metadata": {},
   "source": [
    "# Day 5"
   ]
  },
  {
   "cell_type": "markdown",
   "metadata": {},
   "source": [
    "### 5.1 Finding Average Value from a List (Automated)"
   ]
  },
  {
   "cell_type": "code",
   "execution_count": null,
   "metadata": {},
   "outputs": [],
   "source": [
    "student_heights = input(\"Input a list of student heights (space seperated): \").split(' ')\n",
    "count = 0\n",
    "sum = 0\n",
    "for n in range(0, len(student_heights)):\n",
    "    student_heights[n] = int(student_heights[n])\n",
    "    sum += student_heights[n]\n",
    "    count += 1\n",
    "\n",
    "print(\"The average is\", sum/count)"
   ]
  },
  {
   "cell_type": "markdown",
   "metadata": {},
   "source": [
    "### 5.2 Finding Max Value from a List"
   ]
  },
  {
   "cell_type": "code",
   "execution_count": null,
   "metadata": {},
   "outputs": [],
   "source": [
    "student_scores = input(\"Input a list of student scores (space seperated): \").split(' ')\n",
    "max_num = int(student_scores[0])\n",
    "for n in range(0, len(student_scores)):\n",
    "    student_scores[n] = int(student_scores[n])\n",
    "    \n",
    "    if student_scores[n] > max_num:\n",
    "        max_num = student_scores[n]\n",
    "    \n",
    "print(f\"The largest number is {max_num}\")"
   ]
  },
  {
   "cell_type": "markdown",
   "metadata": {},
   "source": [
    "### 5.3 Adding Even Numbers"
   ]
  },
  {
   "cell_type": "code",
   "execution_count": null,
   "metadata": {},
   "outputs": [],
   "source": [
    "# Function to calculate sum from of all even numbers from 1 to n\n",
    "\n",
    "def add_even(n):\n",
    "    sum = 0\n",
    "    for i in range(1, n):\n",
    "        if i % 2 == 0:\n",
    "            sum += i\n",
    "\n",
    "    return sum"
   ]
  },
  {
   "cell_type": "code",
   "execution_count": null,
   "metadata": {},
   "outputs": [],
   "source": [
    "add_even(101)"
   ]
  },
  {
   "cell_type": "markdown",
   "metadata": {},
   "source": [
    "### 5.4 FizzBuzz Question\n",
    "\n",
    "If a number is divisible by 3, print Fizz\n",
    "\n",
    "\n",
    "If a number is divisible by 5, print Buzz\n",
    "\n",
    "\n",
    "If a number is divisible by both, print FizzBuzz"
   ]
  },
  {
   "cell_type": "code",
   "execution_count": null,
   "metadata": {},
   "outputs": [],
   "source": [
    "def playFizzBuzz(n):\n",
    "    for i in range(0, n):\n",
    "        if i % 15 == 0:\n",
    "            print('FizzBuzz')\n",
    "        elif i % 5 == 0:\n",
    "            print('Buzz')\n",
    "        elif i % 3 == 0:\n",
    "            print('Fizz')\n",
    "        else:\n",
    "            print(i)\n",
    "    return "
   ]
  },
  {
   "cell_type": "code",
   "execution_count": null,
   "metadata": {},
   "outputs": [],
   "source": [
    "playFizzBuzz(50)"
   ]
  },
  {
   "cell_type": "markdown",
   "metadata": {},
   "source": [
    "## Day 5 Project - Password Generator"
   ]
  },
  {
   "cell_type": "code",
   "execution_count": 65,
   "metadata": {},
   "outputs": [
    {
     "name": "stdout",
     "output_type": "stream",
     "text": [
      "Welcome to the PyPassword Generator!\n",
      "Your suggested password is: r#1Q+S#)(\n"
     ]
    }
   ],
   "source": [
    "import random\n",
    "letters = ['a', 'b', 'c', 'd', 'e', 'f', 'g', 'h', 'i', 'j', 'k', 'l', 'm', 'n', 'o', 'p', 'q', 'r', 's', 't', 'u', 'v', 'w', 'x', 'y', 'z', 'A', 'B', 'C', 'D', 'E', 'F', 'G', 'H', 'I', 'J', 'K', 'L', 'M', 'N', 'O', 'P', 'Q', 'R', 'S', 'T', 'U', 'V', 'W', 'X', 'Y', 'Z']\n",
    "numbers = ['0', '1', '2', '3', '4', '5', '6', '7', '8', '9']\n",
    "symbols = ['!', '#', '$', '%', '&', '(', ')', '*', '+']\n",
    "\n",
    "print(\"Welcome to the PyPassword Generator!\")\n",
    "nr_letters= int(input(\"How many letters would you like in your password?\\n\")) \n",
    "nr_symbols = int(input(f\"How many symbols would you like?\\n\"))\n",
    "nr_numbers = int(input(f\"How many numbers would you like?\\n\"))\n",
    "\n",
    "rand_letters = []\n",
    "rand_symbols = []\n",
    "rand_numbers = []\n",
    "\n",
    "# Selecting random letters\n",
    "while nr_letters:\n",
    "    rand_letters.append(letters[random.randint(0, (len(letters) - 1))])\n",
    "    nr_letters -= 1\n",
    "\n",
    "# Selecting random numbers\n",
    "while nr_numbers:\n",
    "    rand_numbers.append(numbers[random.randint(0, (len(numbers) - 1))])\n",
    "    nr_numbers -= 1\n",
    "\n",
    "# Selecting random symbols\n",
    "while nr_symbols:\n",
    "    rand_symbols.append(symbols[random.randint(0, (len(symbols) - 1))])\n",
    "    nr_symbols -= 1\n",
    "\n",
    "generated_password = rand_letters + rand_numbers + rand_symbols\n",
    "random.shuffle(generated_password)\n",
    "print(\"Your suggested password is:\", ''.join(generated_password))"
   ]
  }
 ],
 "metadata": {
  "kernelspec": {
   "display_name": "Python 3.8.10 64-bit",
   "language": "python",
   "name": "python3"
  },
  "language_info": {
   "codemirror_mode": {
    "name": "ipython",
    "version": 3
   },
   "file_extension": ".py",
   "mimetype": "text/x-python",
   "name": "python",
   "nbconvert_exporter": "python",
   "pygments_lexer": "ipython3",
   "version": "3.8.10"
  },
  "orig_nbformat": 4,
  "vscode": {
   "interpreter": {
    "hash": "916dbcbb3f70747c44a77c7bcd40155683ae19c65e1c03b4aa3499c5328201f1"
   }
  }
 },
 "nbformat": 4,
 "nbformat_minor": 2
}
