{
 "cells": [
  {
   "cell_type": "markdown",
   "id": "c8fe2da6",
   "metadata": {},
   "source": [
    "## 3.1 Improved BMI Calculator\n",
    "Calculates your BMI (as before) but now provides some context for the result"
   ]
  },
  {
   "cell_type": "code",
   "execution_count": 2,
   "id": "7f174038",
   "metadata": {},
   "outputs": [],
   "source": [
    "def calculate_bmi(height, weight):\n",
    "    # Convert height to m\n",
    "    height = float(height) / 100\n",
    "    return(round(float(weight) / (height ** 2)))"
   ]
  },
  {
   "cell_type": "code",
   "execution_count": 8,
   "id": "fd2892b7",
   "metadata": {},
   "outputs": [
    {
     "data": {
      "text/plain": [
       "22"
      ]
     },
     "execution_count": 8,
     "metadata": {},
     "output_type": "execute_result"
    }
   ],
   "source": [
    "calculate_bmi(184, 75)"
   ]
  },
  {
   "cell_type": "code",
   "execution_count": 9,
   "id": "5e8ad456",
   "metadata": {
    "scrolled": true
   },
   "outputs": [
    {
     "name": "stdout",
     "output_type": "stream",
     "text": [
      "Please enter your height in cm: 184\n",
      "Please enter your weight in kg: 75\n",
      "Your BMI is 22, and you're classified as healthy\n"
     ]
    }
   ],
   "source": [
    "height = input('Please enter your height in cm: ')\n",
    "weight = input('Please enter your weight in kg: ')\n",
    "\n",
    "# BMI = weight / height ^ 2\n",
    "\n",
    "bmi = calculate_bmi(height, weight)\n",
    "if bmi < 18.5:\n",
    "    print(f\"Your BMI is {bmi}, and you're classified as underweight\")\n",
    "elif 18.5 < bmi and bmi < 25:\n",
    "    print(f\"Your BMI is {bmi}, and you're classified as healthy\")\n",
    "elif 25 < bmi  and bmi < 30:\n",
    "    print(f\"Your BMI is {bmi}, and you're classified as overweight\")\n",
    "elif 30 < bmi and bmi < 35:\n",
    "    print(f\"Your BMI is {bmi}, and you're classified as obese\")\n",
    "else:\n",
    "    print(f\"Your BMI is {bmi}, and you're morbiusly obeast\")"
   ]
  },
  {
   "cell_type": "markdown",
   "id": "a02a3314",
   "metadata": {},
   "source": [
    "## 3.2 Leap Year Calculator -\n",
    "Takes an input of a year and tells you whether it's a leap year or not, based on a set of rules.\n",
    "\n",
    "The rules are:\n",
    "- A year is a leap year if it is divisible by 4\n",
    "- EXCEPT if that year is divisible by 100\n",
    "- UNLESS the year is also divisible by 400"
   ]
  },
  {
   "cell_type": "code",
   "execution_count": 4,
   "id": "085834fa",
   "metadata": {},
   "outputs": [],
   "source": [
    "def is_leap_year(year):\n",
    "    year = int(year)\n",
    "    if year % 400 == 0 and year % 100 == 0 and year % 4 == 0:\n",
    "        return True\n",
    "    elif year % 100 == 0 and year % 4 == 0:\n",
    "        return False\n",
    "    elif year % 4 != 0:\n",
    "        return False\n",
    "    else:\n",
    "        return True"
   ]
  },
  {
   "cell_type": "code",
   "execution_count": 12,
   "id": "213ed2c5",
   "metadata": {},
   "outputs": [
    {
     "name": "stdout",
     "output_type": "stream",
     "text": [
      "What year is it? 2020\n",
      "2020 is a leap year.\n"
     ]
    }
   ],
   "source": [
    "year = input('What year is it? ')\n",
    "answer = is_leap_year(year)\n",
    "if answer == True:\n",
    "    print(f'{year} is a leap year.')\n",
    "else:\n",
    "    print(f'{year} is not a leap year.')"
   ]
  },
  {
   "cell_type": "markdown",
   "id": "efe9ff47",
   "metadata": {},
   "source": [
    "To check if this function is correct, I googled how many leap years fell between 1900 and 2000. Google said that there were 25 leap years, so if my function is correct, then there should be 25 True elements in the array of answers."
   ]
  },
  {
   "cell_type": "code",
   "execution_count": 18,
   "id": "156480b5",
   "metadata": {},
   "outputs": [],
   "source": [
    "def count_true(array):\n",
    "    count_true = count_false = 0\n",
    "    for element in array:\n",
    "        if element == True:\n",
    "            count_true += 1\n",
    "        else:\n",
    "            count_false += 1\n",
    "    return count_true, count_false"
   ]
  },
  {
   "cell_type": "code",
   "execution_count": 13,
   "id": "c5162dd5",
   "metadata": {},
   "outputs": [],
   "source": [
    "i = 1900\n",
    "arr = []\n",
    "while i < 2001:\n",
    "    arr.append(is_leap_year(i))\n",
    "    i += 1"
   ]
  },
  {
   "cell_type": "code",
   "execution_count": 20,
   "id": "fbf6af52",
   "metadata": {},
   "outputs": [
    {
     "data": {
      "text/plain": [
       "(25, 76)"
      ]
     },
     "execution_count": 20,
     "metadata": {},
     "output_type": "execute_result"
    }
   ],
   "source": [
    "count_true(arr)\n",
    "\n",
    "# Correct!"
   ]
  },
  {
   "cell_type": "markdown",
   "id": "ab405f31",
   "metadata": {},
   "source": [
    "## 3.3 Pizza Order Subtotal Calculator\n",
    "A (somewhat) interactive ordering experience - gives you options to order, takes inputs and outputs final result - the bill"
   ]
  },
  {
   "cell_type": "code",
   "execution_count": 22,
   "id": "cc54be45",
   "metadata": {
    "scrolled": false
   },
   "outputs": [
    {
     "name": "stdout",
     "output_type": "stream",
     "text": [
      "Welcome to Arjoni's!\n",
      "What size pizza would you like? Large\n",
      "Do you want pepperoni with that? Y\n",
      "How about some extra cheese? N\n",
      "Your total will be $28.\n"
     ]
    }
   ],
   "source": [
    "print(\"Welcome to Arjoni's!\")\n",
    "size = input(\"What size pizza would you like? \")\n",
    "add_pepperoni = input(\"Do you want pepperoni with that? \")\n",
    "extra_cheese = input(\"How about some extra cheese? \")\n",
    "\n",
    "if size == 'Small':\n",
    "    subtotal = 15\n",
    "elif size == 'Medium':\n",
    "    subtotal = 20\n",
    "elif size == 'Large':\n",
    "    subtotal = 25\n",
    "    \n",
    "if add_pepperoni == 'Y':\n",
    "    if size == 'Small':\n",
    "        subtotal += 2\n",
    "    else:\n",
    "        subtotal += 3\n",
    "        \n",
    "if extra_cheese == 'Y':\n",
    "    subtotal += 1\n",
    "\n",
    "print(f\"Your total will be ${subtotal}.\")"
   ]
  },
  {
   "cell_type": "markdown",
   "id": "d377d3e3",
   "metadata": {},
   "source": [
    "## 3.3 Rollercoaster Ride Ticketing Automation -"
   ]
  },
  {
   "cell_type": "code",
   "execution_count": 5,
   "id": "6d9b5b74",
   "metadata": {},
   "outputs": [
    {
     "name": "stdout",
     "output_type": "stream",
     "text": [
      "Welcome to Lunarj Park!\n",
      "Before you hop on, we need to check some details first!\n",
      "How tall are you in cm? 181\n",
      "How old are you? 13\n",
      "Finally, will you want photos taken on the drop? YES\n",
      "That'll be 10, hope you enjoy!\n"
     ]
    }
   ],
   "source": [
    "print('Welcome to Lunarj Park!')\n",
    "print('Before you hop on, we need to check some details first!')\n",
    "\n",
    "height = input('How tall are you in cm? ')\n",
    "if int(height) < 121:\n",
    "    print(\"Sorry, you're too SHORT to ride! Grow some more\")\n",
    "\n",
    "ticket_price = 0\n",
    "\n",
    "age = int(input(\"How old are you? \"))\n",
    "if age < 13:\n",
    "    ticket_price += 5\n",
    "elif 12 < age and age < 19:\n",
    "    ticket_price += 7\n",
    "elif 18 < age and age < 56:\n",
    "    ticket_price += 12\n",
    "    \n",
    "flag = input('Finally, will you want photos taken on the drop? ').lower()\n",
    "\n",
    "if flag == 'yes':\n",
    "    ticket_price += 3\n",
    "\n",
    "print(f\"That'll be {ticket_price}, hope you enjoy!\")"
   ]
  },
  {
   "cell_type": "markdown",
   "id": "0b4a750a",
   "metadata": {},
   "source": [
    "# 3.4 'Love Calculator'\n",
    "\n",
    "Automates a Buzzfeed test that was published a while ago"
   ]
  },
  {
   "cell_type": "code",
   "execution_count": 17,
   "id": "f90a67eb",
   "metadata": {},
   "outputs": [
    {
     "name": "stdout",
     "output_type": "stream",
     "text": [
      "Welcome to the Love Calculator\n",
      "Your score is 42. It's pretty decent.\n"
     ]
    }
   ],
   "source": [
    "print('Welcome to the Love Calculator')\n",
    "name1 = input(\"What's your name? \\n\").lower()\n",
    "name2 = input(\"What's your partner's name? \\n\").lower()\n",
    "\n",
    "combined_names = name1+name2\n",
    "\n",
    "count_1 = count_2 = 0\n",
    "\n",
    "for letter in combined_names:\n",
    "    if letter in 'true':\n",
    "        count_1 += 1\n",
    "    if letter in 'love':\n",
    "        count_2 += 1\n",
    "\n",
    "score = int(str(count_1)+str(count_2))\n",
    "\n",
    "if score < 10 or score > 90:\n",
    "    print(f\"Your score is {score}. You guys should probably break up\")\n",
    "elif score > 40 and score < 50:\n",
    "    print(f\"Your score is {score}. It's pretty decent.\")\n",
    "else:\n",
    "    print(f\"Your score is {score}. Nothing remarkable.\")"
   ]
  },
  {
   "cell_type": "markdown",
   "id": "46ee1108",
   "metadata": {},
   "source": [
    "# Day 3 Project -\n",
    "## Treasure Island Pick Your Own Adventure"
   ]
  },
  {
   "cell_type": "code",
   "execution_count": 30,
   "id": "8ca2da86",
   "metadata": {},
   "outputs": [
    {
     "name": "stdout",
     "output_type": "stream",
     "text": [
      "Welcome to Treasure Island. Your goal is to find the treasure... or die trying\n",
      "You disembark and walk into the jungle. You soon find yourself at a fork: you can go left, onto a well-worn path that cuts through the bushes, or continue right.\n",
      "After pushing through the thickets, you see a chapel across a small, slightly turbulent river. There's an old, rickety rope bridge that you could cross, or you could try swim across. \n",
      "You carefully navigate over the rope bridge and walk into the chapel. Inside, there are 3 doors: a blue door with a water icon, a red door with a fire icon and a yellow door with a skull icon. \n",
      "Too bored to think of a setting - you win!\n"
     ]
    }
   ],
   "source": [
    "print(\"Welcome to Treasure Island. Your goal is to find the treasure... or die trying\")\n",
    "print(\"You disembark and walk into the jungle. You soon find yourself at a fork: you can go left, onto a well-worn path that cuts through the bushes, or continue right.\")\n",
    "turn = input(\"Do you go left or right?\")\n",
    "if turn == 'left':\n",
    "    print(\"You continue on the suspiciously cleared out path and you feel a slight resistance on your foot. You look up and see a spiked log swinging towards you. You're dead\")\n",
    "else:\n",
    "    print(\"After pushing through the thickets, you see a chapel across a small, slightly turbulent river. There's an old, rickety rope bridge that you could cross, or you could try swim across. \")\n",
    "    bridge = input(\"Do you swim or cross?\")\n",
    "    if bridge == 'swim':\n",
    "        print(\"In your eagerness to swim over, you didn't notice that the river was full of piranhas. As you dive in you start getting torn apart by thousands of tiny teeth. You're dead.\")\n",
    "    else:\n",
    "        print(\"You carefully navigate over the rope bridge and walk into the chapel. Inside, there are 3 doors: a blue door with a water icon, a red door with a fire icon and a yellow door with a skull icon. \")\n",
    "        door = input(\"Which door do you go through? \")\n",
    "        if door == 'blue':\n",
    "            print(\"You open the door and confidently walk through the threshhold. You immediately fall down into a narrow well and are submerged. You're dead (after a long, drawn-out struggle). \")\n",
    "        elif door == 'red':\n",
    "            print(\"You try open the door, but it's not moving. You take a couple of steps back and ram the door. It scrapes across the stone floor, creating friction and heat. A spark is lit and the entire room explodes. You're dead. \")\n",
    "        elif door == 'yellow':\n",
    "            print(\"Too bored to think of a setting - you win!\")"
   ]
  }
 ],
 "metadata": {
  "kernelspec": {
   "display_name": "Python 3.9.12 ('base')",
   "language": "python",
   "name": "python3"
  },
  "language_info": {
   "codemirror_mode": {
    "name": "ipython",
    "version": 3
   },
   "file_extension": ".py",
   "mimetype": "text/x-python",
   "name": "python",
   "nbconvert_exporter": "python",
   "pygments_lexer": "ipython3",
   "version": "3.9.12"
  },
  "vscode": {
   "interpreter": {
    "hash": "693087e521775e1969dc7a95c9dcc999435e0763ade54d3fa1965327ad8fb375"
   }
  }
 },
 "nbformat": 4,
 "nbformat_minor": 5
}
